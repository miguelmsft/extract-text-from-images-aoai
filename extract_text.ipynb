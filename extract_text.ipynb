{
 "cells": [
  {
   "cell_type": "markdown",
   "metadata": {},
   "source": [
    "# Extract text from images using Azure OpenAI GPT-4o"
   ]
  },
  {
   "cell_type": "markdown",
   "metadata": {},
   "source": [
    "#### Settings"
   ]
  },
  {
   "cell_type": "code",
   "execution_count": 17,
   "metadata": {},
   "outputs": [
    {
     "data": {
      "text/plain": [
       "True"
      ]
     },
     "execution_count": 17,
     "metadata": {},
     "output_type": "execute_result"
    }
   ],
   "source": [
    "import base64\n",
    "import os\n",
    "from dotenv import load_dotenv\n",
    "from mimetypes import guess_type\n",
    "from openai import AzureOpenAI\n",
    "from pydantic import BaseModel\n",
    "\n",
    "load_dotenv()"
   ]
  },
  {
   "cell_type": "code",
   "execution_count": 2,
   "metadata": {},
   "outputs": [],
   "source": [
    "# Azure OpenAI environment variables\n",
    "aoai_endpoint = os.getenv(\"AOAI_ENDPOINT\")\n",
    "aoai_api_key = os.getenv(\"AOAI_API_KEY\")\n",
    "aoai_deployment_name = os.getenv(\"AOAI_DEPLOYMENT\")\n",
    "\n",
    "# Set the path to the image file\n",
    "image_path = \"2024_Work_Trend_Index_Annual_Report.png\""
   ]
  },
  {
   "cell_type": "code",
   "execution_count": 3,
   "metadata": {},
   "outputs": [],
   "source": [
    "# Initialize the AzureOpenAI client  \n",
    "client = AzureOpenAI(  \n",
    "    azure_endpoint=aoai_endpoint,  \n",
    "    api_key=aoai_api_key, \n",
    "    api_version=\"2024-08-01-preview\"  \n",
    ")  "
   ]
  },
  {
   "cell_type": "markdown",
   "metadata": {},
   "source": [
    "#### Functions"
   ]
  },
  {
   "cell_type": "code",
   "execution_count": 4,
   "metadata": {},
   "outputs": [],
   "source": [
    "def local_image_to_data_url(image_path):\n",
    "    \"\"\"\n",
    "    Convert a local image file to a data URL.\n",
    "\n",
    "    Parameters:\n",
    "    -----------\n",
    "    image_path : str\n",
    "        The path to the local image file to be converted.\n",
    "\n",
    "    Returns:\n",
    "    --------\n",
    "    str\n",
    "        A data URL representing the image, suitable for embedding in HTML or other web contexts.\n",
    "    \"\"\"\n",
    "    # Get mime type\n",
    "    mime_type, _ = guess_type(image_path)\n",
    "\n",
    "    if mime_type is None:\n",
    "        mime_type = 'application/octet-stream'\n",
    "\n",
    "    with open(image_path, \"rb\") as image_file:\n",
    "        base64_encoded_data = base64.b64encode(\n",
    "            image_file.read()).decode('utf-8')\n",
    "\n",
    "    return f\"data:{mime_type};base64,{base64_encoded_data}\"\n",
    "\n"
   ]
  },
  {
   "cell_type": "code",
   "execution_count": 21,
   "metadata": {},
   "outputs": [],
   "source": [
    "def call_azure_openai(prompt, image_data_url, client=client, aoai_deployment_name=aoai_deployment_name, response_format=None):\n",
    "    \"\"\"\n",
    "    Call the Azure OpenAI service to analyze an image.\n",
    "\n",
    "    \"\"\"\n",
    "\n",
    "    if response_format is None:\n",
    "        response = client.chat.completions.create(\n",
    "            model=aoai_deployment_name,\n",
    "            messages=[{\n",
    "                \"role\": \"system\", \n",
    "                \"content\": \"You are an AI helpful assistant.\"\n",
    "            }, {\n",
    "                \"role\": \"user\",\n",
    "                \"content\": [{\n",
    "                    \"type\": \"text\",\n",
    "                    \"text\": prompt\n",
    "                }, {\n",
    "                    \"type\": \"image_url\",\n",
    "                    \"image_url\": {\n",
    "                        \"url\": image_data_url\n",
    "                    }\n",
    "                }]\n",
    "            }],\n",
    "            max_tokens=4000,\n",
    "            temperature=0.7)\n",
    "    else:\n",
    "        response =client.beta.chat.completions.parse(\n",
    "            model=aoai_deployment_name,\n",
    "            messages=[{\n",
    "                \"role\": \"system\", \n",
    "                \"content\": \"You are an AI helpful assistant.\"\n",
    "            }, {\n",
    "                \"role\": \"user\",\n",
    "                \"content\": [{\n",
    "                    \"type\": \"text\",\n",
    "                    \"text\": prompt\n",
    "                }, {\n",
    "                    \"type\": \"image_url\",\n",
    "                    \"image_url\": {\n",
    "                        \"url\": image_data_url\n",
    "                    }\n",
    "                }]\n",
    "            }],\n",
    "            max_tokens=4000,\n",
    "            temperature=0.7,\n",
    "            response_format=response_format)\n",
    "\n",
    "    # Print result\n",
    "    print(\"Azure OpenAI Response:\")\n",
    "    print(response.choices[0].message.content)"
   ]
  },
  {
   "cell_type": "code",
   "execution_count": 6,
   "metadata": {},
   "outputs": [],
   "source": [
    "# data url\n",
    "image_data_url = local_image_to_data_url(image_path)"
   ]
  },
  {
   "cell_type": "markdown",
   "metadata": {},
   "source": [
    "#### Test 1 - Describe image"
   ]
  },
  {
   "cell_type": "code",
   "execution_count": 13,
   "metadata": {},
   "outputs": [
    {
     "name": "stdout",
     "output_type": "stream",
     "text": [
      "Azure OpenAI Response:\n",
      "The image is an infographic from the \"2024 Work Trend Index Annual Report\" by Microsoft and LinkedIn. It discusses the integration of AI in the workplace and includes three main findings:\n",
      "\n",
      "1. **Finding 1**: Employees want AI at work and aren't waiting for companies to catch up. \n",
      "   - 75% of knowledge workers use generative AI.\n",
      "   - 78% of AI users bring their own AI tools.\n",
      "   - 79% of leaders believe AI adoption is needed for competitiveness, but 60% are concerned about leadership's lack of planning.\n",
      "\n",
      "2. **Finding 2**: AI raises the bar and breaks the career ceiling for employees.\n",
      "   - 66% of leaders wouldn't hire someone without AI skills.\n",
      "   - 71% prefer less experienced candidates with AI skills over more experienced ones without.\n",
      "   - There was a 142% increase in skills like Copilot and ChatGPT on LinkedIn profiles.\n",
      "\n",
      "3. **Finding 3**: The rise of the AI power user.\n",
      "   - Frequent AI experimentation is key for power users.\n",
      "   - AI boosts creativity (92%) and helps focus on important work (93%).\n",
      "   - AI increases motivation (91%) and work enjoyment (91%).\n",
      "\n",
      "The infographic includes a pie chart showing that 75% of people are using AI at work, with 46% starting less than six months ago. Survey questions are noted at the bottom, and there's a link to the full report on WorkLab. The Microsoft logo is displayed at the bottom right.\n"
     ]
    }
   ],
   "source": [
    "prompt = \"Describe this image:\"\n",
    "\n",
    "call_azure_openai(prompt, image_data_url)"
   ]
  },
  {
   "cell_type": "markdown",
   "metadata": {},
   "source": [
    "#### Test 2 - Extract text from image"
   ]
  },
  {
   "cell_type": "code",
   "execution_count": 14,
   "metadata": {},
   "outputs": [
    {
     "name": "stdout",
     "output_type": "stream",
     "text": [
      "Azure OpenAI Response:\n",
      "Sure, here is the text extracted from the image:\n",
      "\n",
      "---\n",
      "\n",
      "2024 Work Trend Index Annual Report  \n",
      "from Microsoft and LinkedIn\n",
      "\n",
      "AI at Work Is Here.  \n",
      "Now Comes the Hard Part\n",
      "\n",
      "Finding 1  \n",
      "Employees want AI at work—and won’t wait for companies to catch up  \n",
      "They’re bringing their own tools even as leaders face AI inertia.\n",
      "\n",
      "- 75% of knowledge workers around the world use generative AI at work.\n",
      "- 78% of AI users are bringing their own AI to work (BYOAI).\n",
      "- While 79% of leaders believe their company needs to adopt AI to stay competitive, 60% of leaders worry their organization’s leadership lacks a plan and vision to implement it.\n",
      "\n",
      "Finding 2  \n",
      "For employees, AI raises the bar and breaks the career ceiling  \n",
      "Some are itching for a career change, and there is a massive opportunity for those willing to skill up on AI.\n",
      "\n",
      "- 66% of leaders say they would not hire someone without AI skills.\n",
      "- 71% say they’d rather hire a less experienced candidate with AI skills than a more experienced candidate without.\n",
      "- There was a 142x increase in skills like Copilot and ChatGPT added to LinkedIn profiles last year.\n",
      "\n",
      "Finding 3  \n",
      "The rise of the AI power user—and what they reveal about the future  \n",
      "Power users use AI at least several times per week. They say it saves them more than 30 minutes per day.\n",
      "\n",
      "- Frequently experimenting with AI is the #1 predictor of an AI power user.\n",
      "- Power users say AI boosts their creativity (92%) and helps them focus on the most important work (93%).\n",
      "- AI also helps them feel more motivated (91%) and enjoy work more (91%).\n",
      "\n",
      "Three Out of Four People Use AI at Work  \n",
      "Usage nearly doubled in the last six months.\n",
      "\n",
      "75% of people are already using AI at work  \n",
      "46% of them started using it less than 6 months ago\n",
      "\n",
      "Survey Questions:  \n",
      "How often do you use generative artificial intelligence (AI) for your work?  \n",
      "How long have you been using generative artificial intelligence (AI) at work?\n",
      "\n",
      "Read the full report on WorkLab\n",
      "\n",
      "Microsoft\n",
      "\n",
      "---\n"
     ]
    }
   ],
   "source": [
    "prompt = \"Extract the text from this image:\"\n",
    "\n",
    "call_azure_openai(prompt, image_data_url)"
   ]
  },
  {
   "cell_type": "markdown",
   "metadata": {},
   "source": [
    "#### Test 3 - Answer question from image text"
   ]
  },
  {
   "cell_type": "code",
   "execution_count": 15,
   "metadata": {},
   "outputs": [
    {
     "name": "stdout",
     "output_type": "stream",
     "text": [
      "Azure OpenAI Response:\n",
      "According to the image, 75% of knowledge workers around the world use generative AI at work.\n"
     ]
    }
   ],
   "source": [
    "prompt = \"Based on this image, what percentage of knowledge workers around the world use generative AI at work?\"\n",
    "\n",
    "call_azure_openai(prompt, image_data_url)"
   ]
  },
  {
   "cell_type": "markdown",
   "metadata": {},
   "source": [
    "#### Test 4 - Extract specific information with structured output"
   ]
  },
  {
   "cell_type": "code",
   "execution_count": 22,
   "metadata": {},
   "outputs": [
    {
     "name": "stdout",
     "output_type": "stream",
     "text": [
      "Azure OpenAI Response:\n",
      "{\"PctWorkersAI\":75,\"PctLeadersAI\":79}\n"
     ]
    }
   ],
   "source": [
    "prompt = \"\"\"Based on this image, answer the questions: \n",
    "            1) what percentage of knowledge workers around the world use generative AI at work? \n",
    "            2) what percentage of leaders believe their company needs to adopt AI to stay competitive?\"\"\"\n",
    "\n",
    "# Define output format\n",
    "class ExtractedAnswers(BaseModel):\n",
    "    PctWorkersAI: int\n",
    "    PctLeadersAI: int\n",
    "\n",
    "call_azure_openai(prompt, image_data_url, response_format=ExtractedAnswers)"
   ]
  },
  {
   "cell_type": "code",
   "execution_count": null,
   "metadata": {},
   "outputs": [],
   "source": []
  }
 ],
 "metadata": {
  "kernelspec": {
   "display_name": "Python 3",
   "language": "python",
   "name": "python3"
  },
  "language_info": {
   "codemirror_mode": {
    "name": "ipython",
    "version": 3
   },
   "file_extension": ".py",
   "mimetype": "text/x-python",
   "name": "python",
   "nbconvert_exporter": "python",
   "pygments_lexer": "ipython3",
   "version": "3.11.9"
  }
 },
 "nbformat": 4,
 "nbformat_minor": 2
}
